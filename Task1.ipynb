{
 "cells": [
  {
   "cell_type": "markdown",
   "metadata": {},
   "source": [
    "Задача: \n",
    "Используем набор данных о пассажирах Титаника, чтобы научиться загружать данные, проводить основной анализ и манипулировать данными."
   ]
  },
  {
   "cell_type": "code",
   "execution_count": 2,
   "metadata": {},
   "outputs": [],
   "source": [
    "import numpy as np\n",
    "import pandas as pd\n",
    "from scipy import stats\n",
    "import matplotlib.pyplot as plt\n",
    "import seaborn as sns\n",
    "\n"
   ]
  },
  {
   "cell_type": "code",
   "execution_count": 3,
   "metadata": {},
   "outputs": [
    {
     "name": "stdout",
     "output_type": "stream",
     "text": [
      "   survived  pclass     sex   age  sibsp  parch     fare embarked  class  \\\n",
      "0         0       3    male  22.0      1      0   7.2500        S  Third   \n",
      "1         1       1  female  38.0      1      0  71.2833        C  First   \n",
      "2         1       3  female  26.0      0      0   7.9250        S  Third   \n",
      "3         1       1  female  35.0      1      0  53.1000        S  First   \n",
      "4         0       3    male  35.0      0      0   8.0500        S  Third   \n",
      "\n",
      "     who  adult_male deck  embark_town alive  alone  \n",
      "0    man        True  NaN  Southampton    no  False  \n",
      "1  woman       False    C    Cherbourg   yes  False  \n",
      "2  woman       False  NaN  Southampton   yes   True  \n",
      "3  woman       False    C  Southampton   yes  False  \n",
      "4    man        True  NaN  Southampton    no   True  \n"
     ]
    }
   ],
   "source": [
    "import seaborn as sns\n",
    "\n",
    "titanic = sns.load_dataset('titanic')\n",
    "\n",
    "print(titanic.head())\n"
   ]
  },
  {
   "cell_type": "code",
   "execution_count": 4,
   "metadata": {},
   "outputs": [
    {
     "name": "stdout",
     "output_type": "stream",
     "text": [
      "pclass\n",
      "3    491\n",
      "1    216\n",
      "2    184\n",
      "Name: count, dtype: int64\n"
     ]
    }
   ],
   "source": [
    "import seaborn as sns\n",
    "\n",
    "# Загрузка данных о пассажирах Титаника с помощью Seaborn\n",
    "titanic = sns.load_dataset('titanic')\n",
    "\n",
    "# Подсчет количества пассажиров по классам обслуживания\n",
    "passenger_counts_by_class = titanic['pclass'].value_counts()\n",
    "\n",
    "# Вывод результатов\n",
    "print(passenger_counts_by_class)\n"
   ]
  },
  {
   "cell_type": "code",
   "execution_count": 5,
   "metadata": {},
   "outputs": [
    {
     "name": "stdout",
     "output_type": "stream",
     "text": [
      "sex\n",
      "male      577\n",
      "female    314\n",
      "Name: count, dtype: int64\n"
     ]
    }
   ],
   "source": [
    "# Подсчет количества пассажиров по полу\n",
    "passenger_counts_by_sex = titanic['sex'].value_counts()\n",
    "\n",
    "# Вывод результатов\n",
    "print(passenger_counts_by_sex)"
   ]
  },
  {
   "cell_type": "code",
   "execution_count": 6,
   "metadata": {},
   "outputs": [
    {
     "name": "stdout",
     "output_type": "stream",
     "text": [
      "age\n",
      "24.00    30\n",
      "22.00    27\n",
      "18.00    26\n",
      "19.00    25\n",
      "28.00    25\n",
      "         ..\n",
      "36.50     1\n",
      "55.50     1\n",
      "0.92      1\n",
      "23.50     1\n",
      "74.00     1\n",
      "Name: count, Length: 88, dtype: int64\n"
     ]
    }
   ],
   "source": [
    "# Подсчет количества пассажиров по возросту \n",
    "passenger_counts_by_age = titanic['age'].value_counts()\n",
    "\n",
    "# Вывод результатов\n",
    "print(passenger_counts_by_age)"
   ]
  },
  {
   "cell_type": "code",
   "execution_count": 8,
   "metadata": {},
   "outputs": [
    {
     "name": "stdout",
     "output_type": "stream",
     "text": [
      "Средний возраст пассажиров: 29.7 лет\n"
     ]
    }
   ],
   "source": [
    "# Вычисление среднего возраста пассажиров\n",
    "average_age = titanic['age'].mean()\n",
    "\n",
    "# Вывод среднего возраста\n",
    "print(f'Средний возраст пассажиров: {average_age:.1f} лет')"
   ]
  },
  {
   "cell_type": "code",
   "execution_count": 16,
   "metadata": {},
   "outputs": [],
   "source": [
    "# Заполнение пропущенных значений в столбце 'age' средним возрастом\n",
    "titanic['age'].fillna(average_age, inplace=True)"
   ]
  },
  {
   "cell_type": "code",
   "execution_count": 17,
   "metadata": {},
   "outputs": [],
   "source": [
    "# Создание нового столбца 'is_child', где True означает, что пассажир был ребенком (< 18 лет)\n",
    "titanic['is_child'] = titanic['age'].apply(lambda x: x < 18)"
   ]
  },
  {
   "cell_type": "code",
   "execution_count": 21,
   "metadata": {},
   "outputs": [
    {
     "name": "stdout",
     "output_type": "stream",
     "text": [
      "    age  is_child\n",
      "0  22.0     False\n",
      "1  38.0     False\n",
      "2  26.0     False\n",
      "3  35.0     False\n",
      "4  35.0     False\n"
     ]
    }
   ],
   "source": [
    "# Вывод первых нескольких строк DataFrame для проверки\n",
    "print(titanic[['age', 'is_child']].head())"
   ]
  },
  {
   "cell_type": "code",
   "execution_count": 22,
   "metadata": {},
   "outputs": [
    {
     "data": {
      "image/png": "[encoded data removed]",
      "text/plain": [
       "<Figure size 1000x600 with 1 Axes>"
      ]
     },
     "metadata": {},
     "output_type": "display_data"
    }
   ],
   "source": [
    "import matplotlib.pyplot as plt\n",
    "import seaborn as sns\n",
    "\n",
    "# Загрузка данных о пассажирах Титаника\n",
    "titanic = sns.load_dataset('titanic')\n",
    "\n",
    "# Создание гистограммы возрастов\n",
    "plt.figure(figsize=(10, 6))  # Установка размера фигуры\n",
    "plt.hist(titanic['age'].dropna(), bins=30, alpha=0.7, color='blue')  # Убираем NaN значения перед построением\n",
    "plt.title('Распределение возрастов пассажиров Титаника')  # Добавление заголовка\n",
    "plt.xlabel('Возраст')  # Подпись оси X\n",
    "plt.ylabel('Количество пассажиров')  # Подпись оси Y\n",
    "plt.show()"
   ]
  },
  {
   "cell_type": "code",
   "execution_count": 23,
   "metadata": {},
   "outputs": [
    {
     "data": {
      "image/png": "[encoded data removed]",
      "text/plain": [
       "<Figure size 1000x600 with 1 Axes>"
      ]
     },
     "metadata": {},
     "output_type": "display_data"
    }
   ],
   "source": [
    "plt.figure(figsize=(10, 6))  # Установка размера фигуры\n",
    "sns.countplot(x='class', hue='survived', data=titanic)  # class - класс обслуживания, survived - статус выживания\n",
    "plt.title('Количество выживших пассажиров по классам обслуживания')  # Добавление заголовка\n",
    "plt.xlabel('Класс обслуживания')  # Подпись оси X\n",
    "plt.ylabel('Количество пассажиров')  # Подпись оси Y\n",
    "plt.legend(title='Выжил', labels=['Нет', 'Да'])  # Добавление легенды\n",
    "plt.show()"
   ]
  },
  {
   "cell_type": "code",
   "execution_count": 24,
   "metadata": {},
   "outputs": [
    {
     "name": "stdout",
     "output_type": "stream",
     "text": [
      "     survived  pclass     sex   age  sibsp  parch      fare embarked   class  \\\n",
      "7           0       3    male  2.00      3      1   21.0750        S   Third   \n",
      "16          0       3    male  2.00      4      1   29.1250        Q   Third   \n",
      "78          1       2    male  0.83      0      2   29.0000        S  Second   \n",
      "119         0       3  female  2.00      4      2   31.2750        S   Third   \n",
      "164         0       3    male  1.00      4      1   39.6875        S   Third   \n",
      "172         1       3  female  1.00      1      1   11.1333        S   Third   \n",
      "183         1       2    male  1.00      2      1   39.0000        S  Second   \n",
      "205         0       3  female  2.00      0      1   10.4625        S   Third   \n",
      "297         0       1  female  2.00      1      2  151.5500        S   First   \n",
      "305         1       1    male  0.92      1      2  151.5500        S   First   \n",
      "340         1       2    male  2.00      1      1   26.0000        S  Second   \n",
      "381         1       3  female  1.00      0      2   15.7417        C   Third   \n",
      "386         0       3    male  1.00      5      2   46.9000        S   Third   \n",
      "469         1       3  female  0.75      2      1   19.2583        C   Third   \n",
      "479         1       3  female  2.00      0      1   12.2875        S   Third   \n",
      "530         1       2  female  2.00      1      1   26.0000        S  Second   \n",
      "642         0       3  female  2.00      3      2   27.9000        S   Third   \n",
      "644         1       3  female  0.75      2      1   19.2583        C   Third   \n",
      "755         1       2    male  0.67      1      1   14.5000        S  Second   \n",
      "788         1       3    male  1.00      1      2   20.5750        S   Third   \n",
      "803         1       3    male  0.42      0      1    8.5167        C   Third   \n",
      "824         0       3    male  2.00      4      1   39.6875        S   Third   \n",
      "827         1       2    male  1.00      0      2   37.0042        C  Second   \n",
      "831         1       2    male  0.83      1      1   18.7500        S  Second   \n",
      "\n",
      "       who  adult_male deck  embark_town alive  alone  \n",
      "7    child       False  NaN  Southampton    no  False  \n",
      "16   child       False  NaN   Queenstown    no  False  \n",
      "78   child       False  NaN  Southampton   yes  False  \n",
      "119  child       False  NaN  Southampton    no  False  \n",
      "164  child       False  NaN  Southampton    no  False  \n",
      "172  child       False  NaN  Southampton   yes  False  \n",
      "183  child       False    F  Southampton   yes  False  \n",
      "205  child       False    G  Southampton    no  False  \n",
      "297  child       False    C  Southampton    no  False  \n",
      "305  child       False    C  Southampton   yes  False  \n",
      "340  child       False    F  Southampton   yes  False  \n",
      "381  child       False  NaN    Cherbourg   yes  False  \n",
      "386  child       False  NaN  Southampton    no  False  \n",
      "469  child       False  NaN    Cherbourg   yes  False  \n",
      "479  child       False  NaN  Southampton   yes  False  \n",
      "530  child       False  NaN  Southampton   yes  False  \n",
      "642  child       False  NaN  Southampton    no  False  \n",
      "644  child       False  NaN    Cherbourg   yes  False  \n",
      "755  child       False  NaN  Southampton   yes  False  \n",
      "788  child       False  NaN  Southampton   yes  False  \n",
      "803  child       False  NaN    Cherbourg   yes  False  \n",
      "824  child       False  NaN  Southampton    no  False  \n",
      "827  child       False  NaN    Cherbourg   yes  False  \n",
      "831  child       False  NaN  Southampton   yes  False  \n"
     ]
    }
   ],
   "source": [
    "# Фильтрация строк, где возраст меньше 3 лет\n",
    "children_under_3 = titanic[titanic['age'] < 3]\n",
    "\n",
    "# Вывод результатов\n",
    "print(children_under_3)\n"
   ]
  },
  {
   "cell_type": "code",
   "execution_count": 28,
   "metadata": {},
   "outputs": [
    {
     "name": "stdout",
     "output_type": "stream",
     "text": [
      "Количество пассажиров младше 3 лет: 24\n"
     ]
    }
   ],
   "source": [
    "# Подсчет количества пассажиров младше 3 лет\n",
    "num_children_under_3 = (titanic['age'] < 3).sum()\n",
    "\n",
    "# Вывод результата\n",
    "print(f'Количество пассажиров младше 3 лет: {num_children_under_3}')"
   ]
  },
  {
   "cell_type": "code",
   "execution_count": 29,
   "metadata": {},
   "outputs": [
    {
     "name": "stdout",
     "output_type": "stream",
     "text": [
      "embark_town\n",
      "Southampton    644\n",
      "Cherbourg      168\n",
      "Queenstown      77\n",
      "Name: count, dtype: int64\n"
     ]
    }
   ],
   "source": [
    "sity = titanic['embark_town'].value_counts()\n",
    "print(sity)"
   ]
  },
  {
   "cell_type": "markdown",
   "metadata": {},
   "source": [
    "Для построения простой модели машинного обучения, которая предсказывает выживание пассажира Титаника, мы можем использовать библиотеку Scikit-learn и логистическую регрессию в качестве алгоритма. Логистическая регрессия хорошо подходит для бинарной классификации, такой как предсказание выживет пассажир или нет (1 или 0).\n",
    "\n",
    "Шаги для построения модели:\n",
    "Шаг 1: Подготовка данных\n",
    "\n",
    "Перед обучением модели необходимо подготовить данные. Для примера возьмем набор данных о пассажирах Титаника из Seaborn."
   ]
  },
  {
   "cell_type": "code",
   "execution_count": 11,
   "metadata": {},
   "outputs": [],
   "source": [
    "import seaborn as sns\n",
    "import pandas as pd\n",
    "from sklearn.model_selection import train_test_split\n",
    "from sklearn.linear_model import LogisticRegression\n",
    "from sklearn.metrics import accuracy_score\n"
   ]
  },
  {
   "cell_type": "code",
   "execution_count": 12,
   "metadata": {},
   "outputs": [],
   "source": [
    "# Простая предварительная обработка\n",
    "# Заполнение пропущенных значений в 'age' медианным значением возраста\n",
    "titanic['age'].fillna(titanic['age'].median(), inplace=True)\n",
    "\n",
    "# Кодирование пола в числовой формат: male=0, female=1\n",
    "titanic['sex'] = titanic['sex'].map({'male': 0, 'female': 1})\n",
    "\n",
    "# Выбор признаков для модели\n",
    "features = ['pclass', 'sex', 'age', 'fare']\n",
    "X = titanic[features]\n",
    "y = titanic['survived']\n",
    "\n",
    "# Разделение данных на обучающую и тестовую выборки\n",
    "X_train, X_test, y_train, y_test = train_test_split(X, y, test_size=0.2, random_state=42)"
   ]
  },
  {
   "cell_type": "code",
   "execution_count": 13,
   "metadata": {},
   "outputs": [
    {
     "name": "stdout",
     "output_type": "stream",
     "text": [
      "Точность модели после заполнения пропущенных значений: 0.80\n"
     ]
    }
   ],
   "source": [
    "from sklearn.impute import SimpleImputer\n",
    "import numpy as np\n",
    "\n",
    "# Замена пропущенных значений в числовых столбцах средним значением\n",
    "imputer = SimpleImputer(missing_values=np.nan, strategy='mean')\n",
    "\n",
    "# Применение импьютации к выбранным признакам\n",
    "X_train_imputed = imputer.fit_transform(X_train)\n",
    "X_test_imputed = imputer.transform(X_test)\n",
    "\n",
    "# После импьютации можно создать и обучить модель\n",
    "model = LogisticRegression()\n",
    "model.fit(X_train_imputed, y_train)\n",
    "\n",
    "# Предсказание на тестовом наборе\n",
    "predictions = model.predict(X_test_imputed)\n",
    "\n",
    "# Оценка точности модели\n",
    "accuracy = accuracy_score(y_test, predictions)\n",
    "print(f'Точность модели после заполнения пропущенных значений: {accuracy:.2f}')\n"
   ]
  },
  {
   "cell_type": "code",
   "execution_count": null,
   "metadata": {},
   "outputs": [],
   "source": [
    "# Предполагается, что model - это ваша обученная модель логистической регрессии\n",
    "# X - данные для предсказания (подготовленные аналогично данным для обучения)\n",
    "\n",
    "predictions = model.predict(X)"
   ]
  }
 ],
 "metadata": {
  "kernelspec": {
   "display_name": "Python 3",
   "language": "python",
   "name": "python3"
  },
  "language_info": {
   "codemirror_mode": {
    "name": "ipython",
    "version": 3
   },
   "file_extension": ".py",
   "mimetype": "text/x-python",
   "name": "python",
   "nbconvert_exporter": "python",
   "pygments_lexer": "ipython3",
   "version": "3.11.4"
  }
 },
 "nbformat": 4,
 "nbformat_minor": 2
}
